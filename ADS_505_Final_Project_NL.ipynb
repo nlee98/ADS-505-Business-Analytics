{
  "nbformat": 4,
  "nbformat_minor": 0,
  "metadata": {
    "colab": {
      "provenance": [],
      "collapsed_sections": [],
      "toc_visible": true,
      "authorship_tag": "ABX9TyNZlF2SYgyAYsbWPPYSLUbr",
      "include_colab_link": true
    },
    "kernelspec": {
      "name": "python3",
      "display_name": "Python 3"
    },
    "language_info": {
      "name": "python"
    }
  },
  "cells": [
    {
      "cell_type": "markdown",
      "metadata": {
        "id": "view-in-github",
        "colab_type": "text"
      },
      "source": [
        "<a href=\"https://colab.research.google.com/github/nlee98/ADS-505-Business-Analytics/blob/main/ADS_505_Final_Project_NL.ipynb\" target=\"_parent\"><img src=\"https://colab.research.google.com/assets/colab-badge.svg\" alt=\"Open In Colab\"/></a>"
      ]
    },
    {
      "cell_type": "markdown",
      "source": [
        "# ADS-505 Final Project\n",
        "By Group 2 - Mohammad\tMahmoudighaznavi, Nicholas Lee, and Christine\tVu\n",
        "\n",
        "Data obtained from: https://www.kaggle.com/datasets/teejmahal20/airline-passenger-satisfaction"
      ],
      "metadata": {
        "id": "YwbwvzZu4Oll"
      }
    },
    {
      "cell_type": "code",
      "source": [
        "# Packages #\n",
        "import numpy as np\n",
        "import pandas as pd\n",
        "import matplotlib.pyplot as plt\n",
        "import seaborn as sns\n",
        "import warnings\n",
        "\n",
        "from sklearn.model_selection import train_test_split, GridSearchCV\n",
        "\n",
        "from google.colab import files\n",
        "\n",
        "warnings.filterwarnings(\"ignore\")\n",
        "%matplotlib inline"
      ],
      "metadata": {
        "id": "h0c2gH_h4spd"
      },
      "execution_count": 1,
      "outputs": []
    },
    {
      "cell_type": "code",
      "source": [
        "# Import Data Sets via Upload\n",
        "uploaded = files.upload()"
      ],
      "metadata": {
        "colab": {
          "base_uri": "https://localhost:8080/",
          "height": 73
        },
        "id": "fvVqd3TxnrEi",
        "outputId": "4815f83c-216d-429b-ba90-badb88864bd1"
      },
      "execution_count": null,
      "outputs": [
        {
          "output_type": "display_data",
          "data": {
            "text/plain": [
              "<IPython.core.display.HTML object>"
            ],
            "text/html": [
              "\n",
              "     <input type=\"file\" id=\"files-037743b3-275c-4859-af6f-e67446bf37f6\" name=\"files[]\" multiple disabled\n",
              "        style=\"border:none\" />\n",
              "     <output id=\"result-037743b3-275c-4859-af6f-e67446bf37f6\">\n",
              "      Upload widget is only available when the cell has been executed in the\n",
              "      current browser session. Please rerun this cell to enable.\n",
              "      </output>\n",
              "      <script>// Copyright 2017 Google LLC\n",
              "//\n",
              "// Licensed under the Apache License, Version 2.0 (the \"License\");\n",
              "// you may not use this file except in compliance with the License.\n",
              "// You may obtain a copy of the License at\n",
              "//\n",
              "//      http://www.apache.org/licenses/LICENSE-2.0\n",
              "//\n",
              "// Unless required by applicable law or agreed to in writing, software\n",
              "// distributed under the License is distributed on an \"AS IS\" BASIS,\n",
              "// WITHOUT WARRANTIES OR CONDITIONS OF ANY KIND, either express or implied.\n",
              "// See the License for the specific language governing permissions and\n",
              "// limitations under the License.\n",
              "\n",
              "/**\n",
              " * @fileoverview Helpers for google.colab Python module.\n",
              " */\n",
              "(function(scope) {\n",
              "function span(text, styleAttributes = {}) {\n",
              "  const element = document.createElement('span');\n",
              "  element.textContent = text;\n",
              "  for (const key of Object.keys(styleAttributes)) {\n",
              "    element.style[key] = styleAttributes[key];\n",
              "  }\n",
              "  return element;\n",
              "}\n",
              "\n",
              "// Max number of bytes which will be uploaded at a time.\n",
              "const MAX_PAYLOAD_SIZE = 100 * 1024;\n",
              "\n",
              "function _uploadFiles(inputId, outputId) {\n",
              "  const steps = uploadFilesStep(inputId, outputId);\n",
              "  const outputElement = document.getElementById(outputId);\n",
              "  // Cache steps on the outputElement to make it available for the next call\n",
              "  // to uploadFilesContinue from Python.\n",
              "  outputElement.steps = steps;\n",
              "\n",
              "  return _uploadFilesContinue(outputId);\n",
              "}\n",
              "\n",
              "// This is roughly an async generator (not supported in the browser yet),\n",
              "// where there are multiple asynchronous steps and the Python side is going\n",
              "// to poll for completion of each step.\n",
              "// This uses a Promise to block the python side on completion of each step,\n",
              "// then passes the result of the previous step as the input to the next step.\n",
              "function _uploadFilesContinue(outputId) {\n",
              "  const outputElement = document.getElementById(outputId);\n",
              "  const steps = outputElement.steps;\n",
              "\n",
              "  const next = steps.next(outputElement.lastPromiseValue);\n",
              "  return Promise.resolve(next.value.promise).then((value) => {\n",
              "    // Cache the last promise value to make it available to the next\n",
              "    // step of the generator.\n",
              "    outputElement.lastPromiseValue = value;\n",
              "    return next.value.response;\n",
              "  });\n",
              "}\n",
              "\n",
              "/**\n",
              " * Generator function which is called between each async step of the upload\n",
              " * process.\n",
              " * @param {string} inputId Element ID of the input file picker element.\n",
              " * @param {string} outputId Element ID of the output display.\n",
              " * @return {!Iterable<!Object>} Iterable of next steps.\n",
              " */\n",
              "function* uploadFilesStep(inputId, outputId) {\n",
              "  const inputElement = document.getElementById(inputId);\n",
              "  inputElement.disabled = false;\n",
              "\n",
              "  const outputElement = document.getElementById(outputId);\n",
              "  outputElement.innerHTML = '';\n",
              "\n",
              "  const pickedPromise = new Promise((resolve) => {\n",
              "    inputElement.addEventListener('change', (e) => {\n",
              "      resolve(e.target.files);\n",
              "    });\n",
              "  });\n",
              "\n",
              "  const cancel = document.createElement('button');\n",
              "  inputElement.parentElement.appendChild(cancel);\n",
              "  cancel.textContent = 'Cancel upload';\n",
              "  const cancelPromise = new Promise((resolve) => {\n",
              "    cancel.onclick = () => {\n",
              "      resolve(null);\n",
              "    };\n",
              "  });\n",
              "\n",
              "  // Wait for the user to pick the files.\n",
              "  const files = yield {\n",
              "    promise: Promise.race([pickedPromise, cancelPromise]),\n",
              "    response: {\n",
              "      action: 'starting',\n",
              "    }\n",
              "  };\n",
              "\n",
              "  cancel.remove();\n",
              "\n",
              "  // Disable the input element since further picks are not allowed.\n",
              "  inputElement.disabled = true;\n",
              "\n",
              "  if (!files) {\n",
              "    return {\n",
              "      response: {\n",
              "        action: 'complete',\n",
              "      }\n",
              "    };\n",
              "  }\n",
              "\n",
              "  for (const file of files) {\n",
              "    const li = document.createElement('li');\n",
              "    li.append(span(file.name, {fontWeight: 'bold'}));\n",
              "    li.append(span(\n",
              "        `(${file.type || 'n/a'}) - ${file.size} bytes, ` +\n",
              "        `last modified: ${\n",
              "            file.lastModifiedDate ? file.lastModifiedDate.toLocaleDateString() :\n",
              "                                    'n/a'} - `));\n",
              "    const percent = span('0% done');\n",
              "    li.appendChild(percent);\n",
              "\n",
              "    outputElement.appendChild(li);\n",
              "\n",
              "    const fileDataPromise = new Promise((resolve) => {\n",
              "      const reader = new FileReader();\n",
              "      reader.onload = (e) => {\n",
              "        resolve(e.target.result);\n",
              "      };\n",
              "      reader.readAsArrayBuffer(file);\n",
              "    });\n",
              "    // Wait for the data to be ready.\n",
              "    let fileData = yield {\n",
              "      promise: fileDataPromise,\n",
              "      response: {\n",
              "        action: 'continue',\n",
              "      }\n",
              "    };\n",
              "\n",
              "    // Use a chunked sending to avoid message size limits. See b/62115660.\n",
              "    let position = 0;\n",
              "    do {\n",
              "      const length = Math.min(fileData.byteLength - position, MAX_PAYLOAD_SIZE);\n",
              "      const chunk = new Uint8Array(fileData, position, length);\n",
              "      position += length;\n",
              "\n",
              "      const base64 = btoa(String.fromCharCode.apply(null, chunk));\n",
              "      yield {\n",
              "        response: {\n",
              "          action: 'append',\n",
              "          file: file.name,\n",
              "          data: base64,\n",
              "        },\n",
              "      };\n",
              "\n",
              "      let percentDone = fileData.byteLength === 0 ?\n",
              "          100 :\n",
              "          Math.round((position / fileData.byteLength) * 100);\n",
              "      percent.textContent = `${percentDone}% done`;\n",
              "\n",
              "    } while (position < fileData.byteLength);\n",
              "  }\n",
              "\n",
              "  // All done.\n",
              "  yield {\n",
              "    response: {\n",
              "      action: 'complete',\n",
              "    }\n",
              "  };\n",
              "}\n",
              "\n",
              "scope.google = scope.google || {};\n",
              "scope.google.colab = scope.google.colab || {};\n",
              "scope.google.colab._files = {\n",
              "  _uploadFiles,\n",
              "  _uploadFilesContinue,\n",
              "};\n",
              "})(self);\n",
              "</script> "
            ]
          },
          "metadata": {}
        },
        {
          "output_type": "stream",
          "name": "stdout",
          "text": [
            "Saving airline_satisfaction_test.csv to airline_satisfaction_test.csv\n"
          ]
        }
      ]
    },
    {
      "cell_type": "code",
      "source": [
        "# Import training set\n",
        "airline_train = pd.read_csv(\n",
        "    \"airline_satisfaction_train.csv\"\n",
        ")\n",
        "\n",
        "# Import test set\n",
        "airline_test = pd.read_csv(\n",
        "    \"airline_satisfaction_test.csv\"\n",
        ")"
      ],
      "metadata": {
        "id": "TlA8ezKKnxtG"
      },
      "execution_count": null,
      "outputs": []
    },
    {
      "cell_type": "code",
      "execution_count": 2,
      "metadata": {
        "id": "eQZxwWdk4LKm"
      },
      "outputs": [],
      "source": [
        "airline_train = pd.read_csv(\n",
        "    \"https://raw.githubusercontent.com/nlee98/ADS-505-Business-Analytics/main/airline_satisfaction_train.csv\"\n",
        ")\n",
        "airline_test = pd.read_csv(\n",
        "    \"https://raw.githubusercontent.com/nlee98/ADS-505-Business-Analytics/main/airline_satisfaction_test.csv\"\n",
        ")"
      ]
    },
    {
      "cell_type": "code",
      "source": [
        "airline_train.head(3)"
      ],
      "metadata": {
        "colab": {
          "base_uri": "https://localhost:8080/",
          "height": 303
        },
        "id": "SGN-sSgm6CRw",
        "outputId": "30ec73f7-52dd-4b02-9eeb-b7eb89aec1bd"
      },
      "execution_count": 5,
      "outputs": [
        {
          "output_type": "execute_result",
          "data": {
            "text/plain": [
              "   Unnamed: 0      id  Gender      Customer Type  Age   Type of Travel  \\\n",
              "0           0   70172    Male     Loyal Customer   13  Personal Travel   \n",
              "1           1    5047    Male  disloyal Customer   25  Business travel   \n",
              "2           2  110028  Female     Loyal Customer   26  Business travel   \n",
              "\n",
              "      Class  Flight Distance  Inflight wifi service  \\\n",
              "0  Eco Plus              460                      3   \n",
              "1  Business              235                      3   \n",
              "2  Business             1142                      2   \n",
              "\n",
              "   Departure/Arrival time convenient  ...  Inflight entertainment  \\\n",
              "0                                  4  ...                       5   \n",
              "1                                  2  ...                       1   \n",
              "2                                  2  ...                       5   \n",
              "\n",
              "   On-board service  Leg room service  Baggage handling  Checkin service  \\\n",
              "0                 4                 3                 4                4   \n",
              "1                 1                 5                 3                1   \n",
              "2                 4                 3                 4                4   \n",
              "\n",
              "   Inflight service  Cleanliness  Departure Delay in Minutes  \\\n",
              "0                 5            5                          25   \n",
              "1                 4            1                           1   \n",
              "2                 4            5                           0   \n",
              "\n",
              "   Arrival Delay in Minutes             satisfaction  \n",
              "0                      18.0  neutral or dissatisfied  \n",
              "1                       6.0  neutral or dissatisfied  \n",
              "2                       0.0                satisfied  \n",
              "\n",
              "[3 rows x 25 columns]"
            ],
            "text/html": [
              "\n",
              "  <div id=\"df-8405de6d-4904-4c22-89be-b4ec5ed86bb8\">\n",
              "    <div class=\"colab-df-container\">\n",
              "      <div>\n",
              "<style scoped>\n",
              "    .dataframe tbody tr th:only-of-type {\n",
              "        vertical-align: middle;\n",
              "    }\n",
              "\n",
              "    .dataframe tbody tr th {\n",
              "        vertical-align: top;\n",
              "    }\n",
              "\n",
              "    .dataframe thead th {\n",
              "        text-align: right;\n",
              "    }\n",
              "</style>\n",
              "<table border=\"1\" class=\"dataframe\">\n",
              "  <thead>\n",
              "    <tr style=\"text-align: right;\">\n",
              "      <th></th>\n",
              "      <th>Unnamed: 0</th>\n",
              "      <th>id</th>\n",
              "      <th>Gender</th>\n",
              "      <th>Customer Type</th>\n",
              "      <th>Age</th>\n",
              "      <th>Type of Travel</th>\n",
              "      <th>Class</th>\n",
              "      <th>Flight Distance</th>\n",
              "      <th>Inflight wifi service</th>\n",
              "      <th>Departure/Arrival time convenient</th>\n",
              "      <th>...</th>\n",
              "      <th>Inflight entertainment</th>\n",
              "      <th>On-board service</th>\n",
              "      <th>Leg room service</th>\n",
              "      <th>Baggage handling</th>\n",
              "      <th>Checkin service</th>\n",
              "      <th>Inflight service</th>\n",
              "      <th>Cleanliness</th>\n",
              "      <th>Departure Delay in Minutes</th>\n",
              "      <th>Arrival Delay in Minutes</th>\n",
              "      <th>satisfaction</th>\n",
              "    </tr>\n",
              "  </thead>\n",
              "  <tbody>\n",
              "    <tr>\n",
              "      <th>0</th>\n",
              "      <td>0</td>\n",
              "      <td>70172</td>\n",
              "      <td>Male</td>\n",
              "      <td>Loyal Customer</td>\n",
              "      <td>13</td>\n",
              "      <td>Personal Travel</td>\n",
              "      <td>Eco Plus</td>\n",
              "      <td>460</td>\n",
              "      <td>3</td>\n",
              "      <td>4</td>\n",
              "      <td>...</td>\n",
              "      <td>5</td>\n",
              "      <td>4</td>\n",
              "      <td>3</td>\n",
              "      <td>4</td>\n",
              "      <td>4</td>\n",
              "      <td>5</td>\n",
              "      <td>5</td>\n",
              "      <td>25</td>\n",
              "      <td>18.0</td>\n",
              "      <td>neutral or dissatisfied</td>\n",
              "    </tr>\n",
              "    <tr>\n",
              "      <th>1</th>\n",
              "      <td>1</td>\n",
              "      <td>5047</td>\n",
              "      <td>Male</td>\n",
              "      <td>disloyal Customer</td>\n",
              "      <td>25</td>\n",
              "      <td>Business travel</td>\n",
              "      <td>Business</td>\n",
              "      <td>235</td>\n",
              "      <td>3</td>\n",
              "      <td>2</td>\n",
              "      <td>...</td>\n",
              "      <td>1</td>\n",
              "      <td>1</td>\n",
              "      <td>5</td>\n",
              "      <td>3</td>\n",
              "      <td>1</td>\n",
              "      <td>4</td>\n",
              "      <td>1</td>\n",
              "      <td>1</td>\n",
              "      <td>6.0</td>\n",
              "      <td>neutral or dissatisfied</td>\n",
              "    </tr>\n",
              "    <tr>\n",
              "      <th>2</th>\n",
              "      <td>2</td>\n",
              "      <td>110028</td>\n",
              "      <td>Female</td>\n",
              "      <td>Loyal Customer</td>\n",
              "      <td>26</td>\n",
              "      <td>Business travel</td>\n",
              "      <td>Business</td>\n",
              "      <td>1142</td>\n",
              "      <td>2</td>\n",
              "      <td>2</td>\n",
              "      <td>...</td>\n",
              "      <td>5</td>\n",
              "      <td>4</td>\n",
              "      <td>3</td>\n",
              "      <td>4</td>\n",
              "      <td>4</td>\n",
              "      <td>4</td>\n",
              "      <td>5</td>\n",
              "      <td>0</td>\n",
              "      <td>0.0</td>\n",
              "      <td>satisfied</td>\n",
              "    </tr>\n",
              "  </tbody>\n",
              "</table>\n",
              "<p>3 rows × 25 columns</p>\n",
              "</div>\n",
              "      <button class=\"colab-df-convert\" onclick=\"convertToInteractive('df-8405de6d-4904-4c22-89be-b4ec5ed86bb8')\"\n",
              "              title=\"Convert this dataframe to an interactive table.\"\n",
              "              style=\"display:none;\">\n",
              "        \n",
              "  <svg xmlns=\"http://www.w3.org/2000/svg\" height=\"24px\"viewBox=\"0 0 24 24\"\n",
              "       width=\"24px\">\n",
              "    <path d=\"M0 0h24v24H0V0z\" fill=\"none\"/>\n",
              "    <path d=\"M18.56 5.44l.94 2.06.94-2.06 2.06-.94-2.06-.94-.94-2.06-.94 2.06-2.06.94zm-11 1L8.5 8.5l.94-2.06 2.06-.94-2.06-.94L8.5 2.5l-.94 2.06-2.06.94zm10 10l.94 2.06.94-2.06 2.06-.94-2.06-.94-.94-2.06-.94 2.06-2.06.94z\"/><path d=\"M17.41 7.96l-1.37-1.37c-.4-.4-.92-.59-1.43-.59-.52 0-1.04.2-1.43.59L10.3 9.45l-7.72 7.72c-.78.78-.78 2.05 0 2.83L4 21.41c.39.39.9.59 1.41.59.51 0 1.02-.2 1.41-.59l7.78-7.78 2.81-2.81c.8-.78.8-2.07 0-2.86zM5.41 20L4 18.59l7.72-7.72 1.47 1.35L5.41 20z\"/>\n",
              "  </svg>\n",
              "      </button>\n",
              "      \n",
              "  <style>\n",
              "    .colab-df-container {\n",
              "      display:flex;\n",
              "      flex-wrap:wrap;\n",
              "      gap: 12px;\n",
              "    }\n",
              "\n",
              "    .colab-df-convert {\n",
              "      background-color: #E8F0FE;\n",
              "      border: none;\n",
              "      border-radius: 50%;\n",
              "      cursor: pointer;\n",
              "      display: none;\n",
              "      fill: #1967D2;\n",
              "      height: 32px;\n",
              "      padding: 0 0 0 0;\n",
              "      width: 32px;\n",
              "    }\n",
              "\n",
              "    .colab-df-convert:hover {\n",
              "      background-color: #E2EBFA;\n",
              "      box-shadow: 0px 1px 2px rgba(60, 64, 67, 0.3), 0px 1px 3px 1px rgba(60, 64, 67, 0.15);\n",
              "      fill: #174EA6;\n",
              "    }\n",
              "\n",
              "    [theme=dark] .colab-df-convert {\n",
              "      background-color: #3B4455;\n",
              "      fill: #D2E3FC;\n",
              "    }\n",
              "\n",
              "    [theme=dark] .colab-df-convert:hover {\n",
              "      background-color: #434B5C;\n",
              "      box-shadow: 0px 1px 3px 1px rgba(0, 0, 0, 0.15);\n",
              "      filter: drop-shadow(0px 1px 2px rgba(0, 0, 0, 0.3));\n",
              "      fill: #FFFFFF;\n",
              "    }\n",
              "  </style>\n",
              "\n",
              "      <script>\n",
              "        const buttonEl =\n",
              "          document.querySelector('#df-8405de6d-4904-4c22-89be-b4ec5ed86bb8 button.colab-df-convert');\n",
              "        buttonEl.style.display =\n",
              "          google.colab.kernel.accessAllowed ? 'block' : 'none';\n",
              "\n",
              "        async function convertToInteractive(key) {\n",
              "          const element = document.querySelector('#df-8405de6d-4904-4c22-89be-b4ec5ed86bb8');\n",
              "          const dataTable =\n",
              "            await google.colab.kernel.invokeFunction('convertToInteractive',\n",
              "                                                     [key], {});\n",
              "          if (!dataTable) return;\n",
              "\n",
              "          const docLinkHtml = 'Like what you see? Visit the ' +\n",
              "            '<a target=\"_blank\" href=https://colab.research.google.com/notebooks/data_table.ipynb>data table notebook</a>'\n",
              "            + ' to learn more about interactive tables.';\n",
              "          element.innerHTML = '';\n",
              "          dataTable['output_type'] = 'display_data';\n",
              "          await google.colab.output.renderOutput(dataTable, element);\n",
              "          const docLink = document.createElement('div');\n",
              "          docLink.innerHTML = docLinkHtml;\n",
              "          element.appendChild(docLink);\n",
              "        }\n",
              "      </script>\n",
              "    </div>\n",
              "  </div>\n",
              "  "
            ]
          },
          "metadata": {},
          "execution_count": 5
        }
      ]
    },
    {
      "cell_type": "code",
      "source": [
        "airline_test.head(3)"
      ],
      "metadata": {
        "colab": {
          "base_uri": "https://localhost:8080/",
          "height": 303
        },
        "id": "tB8IiwHC6ke_",
        "outputId": "5a6cb7e9-bad2-4593-fb05-76b97a3b2638"
      },
      "execution_count": 6,
      "outputs": [
        {
          "output_type": "execute_result",
          "data": {
            "text/plain": [
              "   Unnamed: 0     id  Gender      Customer Type  Age   Type of Travel  \\\n",
              "0           0  19556  Female     Loyal Customer   52  Business travel   \n",
              "1           1  90035  Female     Loyal Customer   36  Business travel   \n",
              "2           2  12360    Male  disloyal Customer   20  Business travel   \n",
              "\n",
              "      Class  Flight Distance  Inflight wifi service  \\\n",
              "0       Eco              160                      5   \n",
              "1  Business             2863                      1   \n",
              "2       Eco              192                      2   \n",
              "\n",
              "   Departure/Arrival time convenient  ...  Inflight entertainment  \\\n",
              "0                                  4  ...                       5   \n",
              "1                                  1  ...                       4   \n",
              "2                                  0  ...                       2   \n",
              "\n",
              "   On-board service  Leg room service  Baggage handling  Checkin service  \\\n",
              "0                 5                 5                 5                2   \n",
              "1                 4                 4                 4                3   \n",
              "2                 4                 1                 3                2   \n",
              "\n",
              "   Inflight service  Cleanliness  Departure Delay in Minutes  \\\n",
              "0                 5            5                          50   \n",
              "1                 4            5                           0   \n",
              "2                 2            2                           0   \n",
              "\n",
              "   Arrival Delay in Minutes             satisfaction  \n",
              "0                      44.0                satisfied  \n",
              "1                       0.0                satisfied  \n",
              "2                       0.0  neutral or dissatisfied  \n",
              "\n",
              "[3 rows x 25 columns]"
            ],
            "text/html": [
              "\n",
              "  <div id=\"df-0bc21e6c-3d84-4e1f-a286-f748787afa5a\">\n",
              "    <div class=\"colab-df-container\">\n",
              "      <div>\n",
              "<style scoped>\n",
              "    .dataframe tbody tr th:only-of-type {\n",
              "        vertical-align: middle;\n",
              "    }\n",
              "\n",
              "    .dataframe tbody tr th {\n",
              "        vertical-align: top;\n",
              "    }\n",
              "\n",
              "    .dataframe thead th {\n",
              "        text-align: right;\n",
              "    }\n",
              "</style>\n",
              "<table border=\"1\" class=\"dataframe\">\n",
              "  <thead>\n",
              "    <tr style=\"text-align: right;\">\n",
              "      <th></th>\n",
              "      <th>Unnamed: 0</th>\n",
              "      <th>id</th>\n",
              "      <th>Gender</th>\n",
              "      <th>Customer Type</th>\n",
              "      <th>Age</th>\n",
              "      <th>Type of Travel</th>\n",
              "      <th>Class</th>\n",
              "      <th>Flight Distance</th>\n",
              "      <th>Inflight wifi service</th>\n",
              "      <th>Departure/Arrival time convenient</th>\n",
              "      <th>...</th>\n",
              "      <th>Inflight entertainment</th>\n",
              "      <th>On-board service</th>\n",
              "      <th>Leg room service</th>\n",
              "      <th>Baggage handling</th>\n",
              "      <th>Checkin service</th>\n",
              "      <th>Inflight service</th>\n",
              "      <th>Cleanliness</th>\n",
              "      <th>Departure Delay in Minutes</th>\n",
              "      <th>Arrival Delay in Minutes</th>\n",
              "      <th>satisfaction</th>\n",
              "    </tr>\n",
              "  </thead>\n",
              "  <tbody>\n",
              "    <tr>\n",
              "      <th>0</th>\n",
              "      <td>0</td>\n",
              "      <td>19556</td>\n",
              "      <td>Female</td>\n",
              "      <td>Loyal Customer</td>\n",
              "      <td>52</td>\n",
              "      <td>Business travel</td>\n",
              "      <td>Eco</td>\n",
              "      <td>160</td>\n",
              "      <td>5</td>\n",
              "      <td>4</td>\n",
              "      <td>...</td>\n",
              "      <td>5</td>\n",
              "      <td>5</td>\n",
              "      <td>5</td>\n",
              "      <td>5</td>\n",
              "      <td>2</td>\n",
              "      <td>5</td>\n",
              "      <td>5</td>\n",
              "      <td>50</td>\n",
              "      <td>44.0</td>\n",
              "      <td>satisfied</td>\n",
              "    </tr>\n",
              "    <tr>\n",
              "      <th>1</th>\n",
              "      <td>1</td>\n",
              "      <td>90035</td>\n",
              "      <td>Female</td>\n",
              "      <td>Loyal Customer</td>\n",
              "      <td>36</td>\n",
              "      <td>Business travel</td>\n",
              "      <td>Business</td>\n",
              "      <td>2863</td>\n",
              "      <td>1</td>\n",
              "      <td>1</td>\n",
              "      <td>...</td>\n",
              "      <td>4</td>\n",
              "      <td>4</td>\n",
              "      <td>4</td>\n",
              "      <td>4</td>\n",
              "      <td>3</td>\n",
              "      <td>4</td>\n",
              "      <td>5</td>\n",
              "      <td>0</td>\n",
              "      <td>0.0</td>\n",
              "      <td>satisfied</td>\n",
              "    </tr>\n",
              "    <tr>\n",
              "      <th>2</th>\n",
              "      <td>2</td>\n",
              "      <td>12360</td>\n",
              "      <td>Male</td>\n",
              "      <td>disloyal Customer</td>\n",
              "      <td>20</td>\n",
              "      <td>Business travel</td>\n",
              "      <td>Eco</td>\n",
              "      <td>192</td>\n",
              "      <td>2</td>\n",
              "      <td>0</td>\n",
              "      <td>...</td>\n",
              "      <td>2</td>\n",
              "      <td>4</td>\n",
              "      <td>1</td>\n",
              "      <td>3</td>\n",
              "      <td>2</td>\n",
              "      <td>2</td>\n",
              "      <td>2</td>\n",
              "      <td>0</td>\n",
              "      <td>0.0</td>\n",
              "      <td>neutral or dissatisfied</td>\n",
              "    </tr>\n",
              "  </tbody>\n",
              "</table>\n",
              "<p>3 rows × 25 columns</p>\n",
              "</div>\n",
              "      <button class=\"colab-df-convert\" onclick=\"convertToInteractive('df-0bc21e6c-3d84-4e1f-a286-f748787afa5a')\"\n",
              "              title=\"Convert this dataframe to an interactive table.\"\n",
              "              style=\"display:none;\">\n",
              "        \n",
              "  <svg xmlns=\"http://www.w3.org/2000/svg\" height=\"24px\"viewBox=\"0 0 24 24\"\n",
              "       width=\"24px\">\n",
              "    <path d=\"M0 0h24v24H0V0z\" fill=\"none\"/>\n",
              "    <path d=\"M18.56 5.44l.94 2.06.94-2.06 2.06-.94-2.06-.94-.94-2.06-.94 2.06-2.06.94zm-11 1L8.5 8.5l.94-2.06 2.06-.94-2.06-.94L8.5 2.5l-.94 2.06-2.06.94zm10 10l.94 2.06.94-2.06 2.06-.94-2.06-.94-.94-2.06-.94 2.06-2.06.94z\"/><path d=\"M17.41 7.96l-1.37-1.37c-.4-.4-.92-.59-1.43-.59-.52 0-1.04.2-1.43.59L10.3 9.45l-7.72 7.72c-.78.78-.78 2.05 0 2.83L4 21.41c.39.39.9.59 1.41.59.51 0 1.02-.2 1.41-.59l7.78-7.78 2.81-2.81c.8-.78.8-2.07 0-2.86zM5.41 20L4 18.59l7.72-7.72 1.47 1.35L5.41 20z\"/>\n",
              "  </svg>\n",
              "      </button>\n",
              "      \n",
              "  <style>\n",
              "    .colab-df-container {\n",
              "      display:flex;\n",
              "      flex-wrap:wrap;\n",
              "      gap: 12px;\n",
              "    }\n",
              "\n",
              "    .colab-df-convert {\n",
              "      background-color: #E8F0FE;\n",
              "      border: none;\n",
              "      border-radius: 50%;\n",
              "      cursor: pointer;\n",
              "      display: none;\n",
              "      fill: #1967D2;\n",
              "      height: 32px;\n",
              "      padding: 0 0 0 0;\n",
              "      width: 32px;\n",
              "    }\n",
              "\n",
              "    .colab-df-convert:hover {\n",
              "      background-color: #E2EBFA;\n",
              "      box-shadow: 0px 1px 2px rgba(60, 64, 67, 0.3), 0px 1px 3px 1px rgba(60, 64, 67, 0.15);\n",
              "      fill: #174EA6;\n",
              "    }\n",
              "\n",
              "    [theme=dark] .colab-df-convert {\n",
              "      background-color: #3B4455;\n",
              "      fill: #D2E3FC;\n",
              "    }\n",
              "\n",
              "    [theme=dark] .colab-df-convert:hover {\n",
              "      background-color: #434B5C;\n",
              "      box-shadow: 0px 1px 3px 1px rgba(0, 0, 0, 0.15);\n",
              "      filter: drop-shadow(0px 1px 2px rgba(0, 0, 0, 0.3));\n",
              "      fill: #FFFFFF;\n",
              "    }\n",
              "  </style>\n",
              "\n",
              "      <script>\n",
              "        const buttonEl =\n",
              "          document.querySelector('#df-0bc21e6c-3d84-4e1f-a286-f748787afa5a button.colab-df-convert');\n",
              "        buttonEl.style.display =\n",
              "          google.colab.kernel.accessAllowed ? 'block' : 'none';\n",
              "\n",
              "        async function convertToInteractive(key) {\n",
              "          const element = document.querySelector('#df-0bc21e6c-3d84-4e1f-a286-f748787afa5a');\n",
              "          const dataTable =\n",
              "            await google.colab.kernel.invokeFunction('convertToInteractive',\n",
              "                                                     [key], {});\n",
              "          if (!dataTable) return;\n",
              "\n",
              "          const docLinkHtml = 'Like what you see? Visit the ' +\n",
              "            '<a target=\"_blank\" href=https://colab.research.google.com/notebooks/data_table.ipynb>data table notebook</a>'\n",
              "            + ' to learn more about interactive tables.';\n",
              "          element.innerHTML = '';\n",
              "          dataTable['output_type'] = 'display_data';\n",
              "          await google.colab.output.renderOutput(dataTable, element);\n",
              "          const docLink = document.createElement('div');\n",
              "          docLink.innerHTML = docLinkHtml;\n",
              "          element.appendChild(docLink);\n",
              "        }\n",
              "      </script>\n",
              "    </div>\n",
              "  </div>\n",
              "  "
            ]
          },
          "metadata": {},
          "execution_count": 6
        }
      ]
    },
    {
      "cell_type": "code",
      "source": [
        "print(airline_train.shape)\n",
        "print(airline_test.shape)\n",
        "\n",
        "# Calculate Test Set Size\n",
        "airline_test.shape[0]/(airline_train.shape[0] + airline_test.shape[0])"
      ],
      "metadata": {
        "id": "4Rt6byPrs1fW",
        "outputId": "b9e09835-fa85-40c8-b262-99cc00afb1f5",
        "colab": {
          "base_uri": "https://localhost:8080/"
        }
      },
      "execution_count": 8,
      "outputs": [
        {
          "output_type": "stream",
          "name": "stdout",
          "text": [
            "(103904, 25)\n",
            "(25976, 25)\n"
          ]
        },
        {
          "output_type": "execute_result",
          "data": {
            "text/plain": [
              "0.2"
            ]
          },
          "metadata": {},
          "execution_count": 8
        }
      ]
    },
    {
      "cell_type": "markdown",
      "source": [
        "# Combine Files to One Data Set\n",
        "The source had previously split the data into a training and a test set. However, the data is currently split 80:20 train:test. Because there is a large number of records, we would like to test our models with a 70:30 split."
      ],
      "metadata": {
        "id": "ePEr2lu1spdy"
      }
    },
    {
      "cell_type": "code",
      "source": [
        "airline_df = airline_train.append(airline_test, ignore_index = True)\n",
        "\n",
        "# Confirm the correct number of rows and columns\n",
        "print(airline_df.shape)\n",
        "print(airline_df.columns)"
      ],
      "metadata": {
        "id": "H6cAV3GLttGJ",
        "outputId": "5033644c-75af-4fd5-8272-b422d194e72e",
        "colab": {
          "base_uri": "https://localhost:8080/"
        }
      },
      "execution_count": 12,
      "outputs": [
        {
          "output_type": "stream",
          "name": "stdout",
          "text": [
            "(129880, 25)\n",
            "Index(['Unnamed: 0', 'id', 'Gender', 'Customer Type', 'Age', 'Type of Travel',\n",
            "       'Class', 'Flight Distance', 'Inflight wifi service',\n",
            "       'Departure/Arrival time convenient', 'Ease of Online booking',\n",
            "       'Gate location', 'Food and drink', 'Online boarding', 'Seat comfort',\n",
            "       'Inflight entertainment', 'On-board service', 'Leg room service',\n",
            "       'Baggage handling', 'Checkin service', 'Inflight service',\n",
            "       'Cleanliness', 'Departure Delay in Minutes', 'Arrival Delay in Minutes',\n",
            "       'satisfaction'],\n",
            "      dtype='object')\n"
          ]
        }
      ]
    },
    {
      "cell_type": "markdown",
      "source": [
        "# ID Columns Removal\n",
        "The columns \"Unnamed: 0\" and \"id\" hold no insights into the data; they are equivalent to the dataframe indeces. For that reason, the columns can be dropped early on, lessening the number of predictors explored during exploratory data analysis."
      ],
      "metadata": {
        "id": "Qx4xCYp_uPzK"
      }
    },
    {
      "cell_type": "code",
      "source": [
        "# Drop ID Columns\n",
        "airline_df = airline_df.drop([\"Unnamed: 0\", \"id\"], axis = 1)"
      ],
      "metadata": {
        "id": "4CVjuUbt-ahV"
      },
      "execution_count": 13,
      "outputs": []
    },
    {
      "cell_type": "markdown",
      "source": [
        "# Exploratory Data Analysis (EDA)"
      ],
      "metadata": {
        "id": "mCDbu4x5NP7q"
      }
    },
    {
      "cell_type": "code",
      "source": [
        "# Check for missing values in the data set\n",
        "print(airline_df.isnull().sum())"
      ],
      "metadata": {
        "colab": {
          "base_uri": "https://localhost:8080/"
        },
        "id": "GrthAr-xoahi",
        "outputId": "79bfa888-5851-4a74-9c3c-fe4516db8970"
      },
      "execution_count": 14,
      "outputs": [
        {
          "output_type": "stream",
          "name": "stdout",
          "text": [
            "Gender                                 0\n",
            "Customer Type                          0\n",
            "Age                                    0\n",
            "Type of Travel                         0\n",
            "Class                                  0\n",
            "Flight Distance                        0\n",
            "Inflight wifi service                  0\n",
            "Departure/Arrival time convenient      0\n",
            "Ease of Online booking                 0\n",
            "Gate location                          0\n",
            "Food and drink                         0\n",
            "Online boarding                        0\n",
            "Seat comfort                           0\n",
            "Inflight entertainment                 0\n",
            "On-board service                       0\n",
            "Leg room service                       0\n",
            "Baggage handling                       0\n",
            "Checkin service                        0\n",
            "Inflight service                       0\n",
            "Cleanliness                            0\n",
            "Departure Delay in Minutes             0\n",
            "Arrival Delay in Minutes             393\n",
            "satisfaction                           0\n",
            "dtype: int64\n"
          ]
        }
      ]
    },
    {
      "cell_type": "markdown",
      "source": [
        "There are 393 missing values, all in the predictor \"Arrival Delay in Minutes.\""
      ],
      "metadata": {
        "id": "80Am450Xu2r2"
      }
    },
    {
      "cell_type": "code",
      "source": [
        "# Check predictor data types are as expected\n",
        "airline_df.dtypes"
      ],
      "metadata": {
        "id": "e441VnAbu9yH",
        "outputId": "f862bde3-852e-433a-f14e-8c8d36821ee5",
        "colab": {
          "base_uri": "https://localhost:8080/"
        }
      },
      "execution_count": 15,
      "outputs": [
        {
          "output_type": "execute_result",
          "data": {
            "text/plain": [
              "Gender                                object\n",
              "Customer Type                         object\n",
              "Age                                    int64\n",
              "Type of Travel                        object\n",
              "Class                                 object\n",
              "Flight Distance                        int64\n",
              "Inflight wifi service                  int64\n",
              "Departure/Arrival time convenient      int64\n",
              "Ease of Online booking                 int64\n",
              "Gate location                          int64\n",
              "Food and drink                         int64\n",
              "Online boarding                        int64\n",
              "Seat comfort                           int64\n",
              "Inflight entertainment                 int64\n",
              "On-board service                       int64\n",
              "Leg room service                       int64\n",
              "Baggage handling                       int64\n",
              "Checkin service                        int64\n",
              "Inflight service                       int64\n",
              "Cleanliness                            int64\n",
              "Departure Delay in Minutes             int64\n",
              "Arrival Delay in Minutes             float64\n",
              "satisfaction                          object\n",
              "dtype: object"
            ]
          },
          "metadata": {},
          "execution_count": 15
        }
      ]
    },
    {
      "cell_type": "markdown",
      "source": [
        "Of the 23 features, there are 22 predictors and one target variable, \"satisfaction.\" Four categorical variables make up the 22 predictors; those are Gender, Customer Type, Type of Travel and Class. The other 18 predictors are based on a 5-point likert scale. More discussion on how these will be treated, either as ordinal or numerical, later on."
      ],
      "metadata": {
        "id": "C0Zt3TU1vt8-"
      }
    },
    {
      "cell_type": "markdown",
      "source": [
        "## Categorical Predictors ##"
      ],
      "metadata": {
        "id": "ao_9dXyE_BMt"
      }
    },
    {
      "cell_type": "markdown",
      "source": [
        "### Barcharts of Customers by Gender and Customer Type "
      ],
      "metadata": {
        "id": "ynh1kmEY-nKM"
      }
    },
    {
      "cell_type": "code",
      "source": [
        "fig, axes = plt.subplots(\n",
        "    nrows = 2,\n",
        "    ncols = 3,\n",
        "    figsize = (15, 10)\n",
        ")\n",
        "\n",
        "# Count of Each Gender\n",
        "plt.subplot(2,3,1)\n",
        "sns.countplot(x = airline_df[\"Gender\"])\n",
        "plt.title(\"Barchart of Gender\")\n",
        "\n",
        "# Satisfaction Rating by Gender\n",
        "plt.subplot(2,3,2)\n",
        "sns.countplot(x = airline_df[\"Gender\"],\n",
        "              hue = airline_df[\"satisfaction\"]);\n",
        "plt.title(\"Barchart of Gender by Customer Satisfaction\")\n",
        "\n",
        "# Proportion of Satisfaction Rating by Gender\n",
        "gender_crosstab = pd.crosstab(airline_df[\"Gender\"], airline_df[\"satisfaction\"])\n",
        "gender_proptab = gender_crosstab.div(gender_crosstab.sum(axis = 1), axis = 0)\n",
        "gender_proptab.plot(kind = \"bar\", stacked = True,\n",
        "                    colormap = \"tab10\",\n",
        "                    ax = axes[0,2], rot = 0,\n",
        "                    title = \"Proportion of Satisfaction by Gender\")\n",
        "\n",
        "# Countplot of Customer Type\n",
        "plt.subplot(2,3,4)\n",
        "sns.countplot(x = airline_df[\"Customer Type\"])\n",
        "plt.title(\"Barchart of Customer Type\")\n",
        "\n",
        "# Count of Satisfaction Rating by Customer Type\n",
        "plt.subplot(2,3,5)\n",
        "sns.countplot(x = airline_df[\"Customer Type\"],\n",
        "              hue = airline_df[\"satisfaction\"])\n",
        "plt.title(\"Barchart of Customer Type by Customer Satisfaction\")\n",
        "\n",
        "# Propotion of Satisfaction by Customer Type\n",
        "cust_proptab = pd.crosstab(index = airline_df[\"Customer Type\"],\n",
        "                           columns = airline_df[\"satisfaction\"],\n",
        "                           normalize = \"index\")\n",
        "cust_proptab.plot(kind = \"bar\", stacked = True,\n",
        "                  colormap = \"tab10\",\n",
        "                  ax = axes[1,2], rot = 0,\n",
        "                  title = \"Proportion of Satisfaction by Customer Type\")\n",
        "\n",
        "fig.subplots_adjust(wspace = 0.5, hspace = 0.5)\n",
        "plt.show()"
      ],
      "metadata": {
        "id": "VesZp5dx6ufc",
        "colab": {
          "base_uri": "https://localhost:8080/",
          "height": 621
        },
        "outputId": "64d72c60-f958-468b-bd40-32db13540fef"
      },
      "execution_count": 38,
      "outputs": [
        {
          "output_type": "display_data",
          "data": {
            "text/plain": [
              "<Figure size 1080x720 with 6 Axes>"
            ],
            "image/png": "[encoded data removed]"
          },
          "metadata": {
            "needs_background": "light"
          }
        }
      ]
    },
    {
      "cell_type": "markdown",
      "source": [
        "There is roughly the same number of males and females. Within each gender category, there is roughly the same number of neural/dissatisfied and satisfied customers. Thus, based on the plots, gender does not appear to be influencing the outcome variable.\n",
        "\n",
        "In the data set, there are a lot more loyal customers than disloyal customers. Through the normalized bar chart of satisfaction ratings by customer type, there is a higher proportion of neutral or dissatisfied customers among disloyal customers than there are among loyal customers. This chart provides us with the initial insight that perhaps customer loyalty may affect satisfaction ratings."
      ],
      "metadata": {
        "id": "brKGj0WswuwY"
      }
    },
    {
      "cell_type": "markdown",
      "source": [
        "### Barcharts of Type of Travel and (Ticket) Class "
      ],
      "metadata": {
        "id": "E4ghNFD6-wUc"
      }
    },
    {
      "cell_type": "code",
      "source": [
        "fig, axes = plt.subplots(\n",
        "    nrows = 2,\n",
        "    ncols = 3,\n",
        "    figsize = (15, 10)\n",
        ")\n",
        "# Count Plot of Type of Travel\n",
        "plt.subplot(2,3,1)\n",
        "sns.countplot(x = airline_df[\"Type of Travel\"])\n",
        "plt.title(\"Count by Type of Travel\")\n",
        "\n",
        "# Count Plot of Satisfaction Rating by Type of Travel\n",
        "plt.subplot(2,3,2)\n",
        "sns.countplot(x = airline_df[\"Type of Travel\"],\n",
        "              hue = airline_df[\"satisfaction\"])\n",
        "plt.title(\"Count by Type of Travel\")\n",
        "\n",
        "# Proportion of satisfaction by Type of Travel\n",
        "cust_proptab = pd.crosstab(index = airline_df[\"Type of Travel\"],\n",
        "                           columns = airline_df[\"satisfaction\"],\n",
        "                           normalize = \"index\")\n",
        "cust_proptab.plot(kind = \"bar\", stacked = True,\n",
        "                  colormap = \"tab10\",\n",
        "                  ax = axes[0,2], rot = 0,\n",
        "                  title = \"Proportion of Satisfaction by Type of Travel\")\n",
        "\n",
        "# Count Plot of (Ticket) Class predictor\n",
        "plt.subplot(2,3,4)\n",
        "sns.countplot(x = airline_train[\"Class\"],\n",
        "              hue = airline_train[\"satisfaction\"])\n",
        "plt.title(\"Count of Ticket Classes\")\n",
        "\n",
        "# Count Plot of Satisfaction Rating by (Ticket) Class\n",
        "plt.subplot(2,3,5)\n",
        "sns.countplot(x = airline_df[\"Class\"],\n",
        "              hue = airline_df[\"satisfaction\"])\n",
        "plt.title(\"Barchart of Ticket Class by Customer Satisfaction\")\n",
        "\n",
        "# Proportion of satisfaction by Type of Travel\n",
        "cust_proptab = pd.crosstab(index = airline_df[\"Class\"],\n",
        "                           columns = airline_df[\"satisfaction\"],\n",
        "                           normalize = \"index\")\n",
        "cust_proptab.plot(kind = \"bar\", stacked = True,\n",
        "                  colormap = \"tab10\",\n",
        "                  ax = axes[1,2], rot = 0,\n",
        "                  title = \"Proportion of Satisfaction by Class\")\n",
        "\n",
        "fig.subplots_adjust(wspace = 0.5, hspace = 0.5)\n",
        "plt.show()"
      ],
      "metadata": {
        "colab": {
          "base_uri": "https://localhost:8080/",
          "height": 621
        },
        "id": "KOPM5ukDQLgO",
        "outputId": "633f41a1-fc09-4be1-ab10-bded5a6701f3"
      },
      "execution_count": 39,
      "outputs": [
        {
          "output_type": "display_data",
          "data": {
            "text/plain": [
              "<Figure size 1080x720 with 6 Axes>"
            ],
            "image/png": "[encoded data removed]"
          },
          "metadata": {
            "needs_background": "light"
          }
        }
      ]
    },
    {
      "cell_type": "code",
      "source": [
        "# Satisfaction by Flight Delay\n",
        "plt.figure(figsize = (10, 8))\n",
        "\n",
        "sns.barplot(x = \"satisfaction\",\n",
        "            y = \"Departure Delay in Minutes\",\n",
        "            data = airline_train,\n",
        "            palette = \"rainbow\",\n",
        "            hue = \"Class\")\n",
        "\n",
        "plt.show()"
      ],
      "metadata": {
        "id": "3JwLrYSxYOt1",
        "colab": {
          "base_uri": "https://localhost:8080/",
          "height": 497
        },
        "outputId": "04df9017-d9ce-4578-bba8-d13142dc5e4c"
      },
      "execution_count": null,
      "outputs": [
        {
          "output_type": "display_data",
          "data": {
            "text/plain": [
              "<Figure size 720x576 with 1 Axes>"
            ],
            "image/png": "[encoded data removed]"
          },
          "metadata": {
            "needs_background": "light"
          }
        }
      ]
    },
    {
      "cell_type": "markdown",
      "source": [
        "## Numerical Predictors"
      ],
      "metadata": {
        "id": "Dcy_ar-i_Gnu"
      }
    },
    {
      "cell_type": "markdown",
      "source": [
        "### Histogram of All Numerical Features ###"
      ],
      "metadata": {
        "id": "tAFkb1A2sVn2"
      }
    },
    {
      "cell_type": "code",
      "source": [
        "airline_train.select_dtypes(include = \"int64\").hist(figsize = (15, 15));"
      ],
      "metadata": {
        "colab": {
          "base_uri": "https://localhost:8080/",
          "height": 899
        },
        "id": "ctQPeyausYqd",
        "outputId": "d082e981-248f-4a47-e08e-c3acd4b19f92"
      },
      "execution_count": null,
      "outputs": [
        {
          "output_type": "display_data",
          "data": {
            "text/plain": [
              "<Figure size 1080x1080 with 20 Axes>"
            ],
            "image/png": "[encoded data removed]"
          },
          "metadata": {
            "needs_background": "light"
          }
        }
      ]
    },
    {
      "cell_type": "markdown",
      "source": [
        "Many of predictors are ordinal in nature, falling on a ranking scale from 1 to 5. There is much debate about how to handle these variables. \n",
        "\n",
        "*Treat them as numerical*\n",
        "\n",
        "**Reference**\n",
        "\n",
        "https://meridian.allenpress.com/jgme/article/5/4/541/34037/Analyzing-and-Interpreting-Data-From-Likert-Type"
      ],
      "metadata": {
        "id": "bQMhVxFQzyYZ"
      }
    },
    {
      "cell_type": "markdown",
      "source": [
        "### Distribution of Age"
      ],
      "metadata": {
        "id": "o2OTmrLm-ttI"
      }
    },
    {
      "cell_type": "code",
      "source": [
        "fig, axes = plt.subplots(\n",
        "    nrows = 3,\n",
        "    ncols = 1,\n",
        "    figsize = (10, 7)\n",
        ")\n",
        "\n",
        "plt.subplot(3,1,1)\n",
        "sns.histplot(airline_train[\"Age\"]);\n",
        "plt.title(\"Distribution of Age\")\n",
        "\n",
        "plt.subplot(3,1,2)\n",
        "sns.histplot(x = airline_train[\"Age\"],\n",
        "            hue = airline_train[\"satisfaction\"]);\n",
        "plt.title(\"Distribution of Age by Customer Satisfaction\")\n",
        "\n",
        "plt.subplot(3,1,3)\n",
        "sns.boxplot(airline_train[\"Age\"])\n",
        "plt.title(\"Boxplot of Age\")\n",
        "\n",
        "fig.subplots_adjust(hspace = 0.5)\n",
        "plt.show()\n",
        "\n",
        "# Descriptive Statistics to Assess Normality\n",
        "age_median = np.median(airline_train[\"Age\"])\n",
        "age_avg = np.average(airline_train[\"Age\"])\n",
        "print(\"The median age is %.4f\" % age_median)\n",
        "print(\"The average age is %.4f\" % age_avg)"
      ],
      "metadata": {
        "colab": {
          "base_uri": "https://localhost:8080/",
          "height": 494
        },
        "id": "96f9bej6Nk3a",
        "outputId": "4021cb43-c624-4e4e-d8c1-7f67d63e5bcb"
      },
      "execution_count": null,
      "outputs": [
        {
          "output_type": "display_data",
          "data": {
            "text/plain": [
              "<Figure size 720x504 with 3 Axes>"
            ],
            "image/png": "[encoded data removed]"
          },
          "metadata": {
            "needs_background": "light"
          }
        },
        {
          "output_type": "stream",
          "name": "stdout",
          "text": [
            "The median age is 40.0000\n",
            "The average age is 39.3797\n"
          ]
        }
      ]
    },
    {
      "cell_type": "markdown",
      "source": [
        "### Distribution of Flight Distance"
      ],
      "metadata": {
        "id": "Pv_L1T1A_MDc"
      }
    },
    {
      "cell_type": "code",
      "source": [
        "# Histogram of Flight Distance\n",
        "sns.histplot(airline_train[\"Flight Distance\"]);\n",
        "plt.title(\"Distribution of Flight Distance\")\n",
        "plt.show()"
      ],
      "metadata": {
        "id": "HSMiffKHXQ6x",
        "outputId": "6d641f29-e9c7-487f-efbd-8e429e3d03f3",
        "colab": {
          "base_uri": "https://localhost:8080/",
          "height": 295
        }
      },
      "execution_count": null,
      "outputs": [
        {
          "output_type": "display_data",
          "data": {
            "text/plain": [
              "<Figure size 432x288 with 1 Axes>"
            ],
            "image/png": "[encoded data removed]"
          },
          "metadata": {
            "needs_background": "light"
          }
        }
      ]
    },
    {
      "cell_type": "markdown",
      "source": [
        "The feature, Flight Distance, is heavily skewed right. The predictor will be transformed if a model demands normally distributed features."
      ],
      "metadata": {
        "id": "mhq1DT_vYQsI"
      }
    },
    {
      "cell_type": "markdown",
      "source": [
        "# Pre-Processing #"
      ],
      "metadata": {
        "id": "M7FHU7DX-XUf"
      }
    },
    {
      "cell_type": "code",
      "source": [
        "# Resolve Missing Values"
      ],
      "metadata": {
        "id": "69Xz4gLaqgLE"
      },
      "execution_count": null,
      "outputs": []
    },
    {
      "cell_type": "code",
      "source": [
        "# Transform Flight Distance"
      ],
      "metadata": {
        "id": "UrpsHY986ebY"
      },
      "execution_count": null,
      "outputs": []
    },
    {
      "cell_type": "code",
      "source": [
        "# Encode Gender, Customer Type, Type of Travel, Class"
      ],
      "metadata": {
        "id": "hkZNjYQ5vFm-"
      },
      "execution_count": null,
      "outputs": []
    },
    {
      "cell_type": "markdown",
      "source": [
        "# Model Training"
      ],
      "metadata": {
        "id": "rgJ9XFJCYuSE"
      }
    },
    {
      "cell_type": "markdown",
      "source": [
        "## Decision Tree ##"
      ],
      "metadata": {
        "id": "1n1C6LvGYzJd"
      }
    },
    {
      "cell_type": "code",
      "source": [],
      "metadata": {
        "id": "awCOaon9YvsZ"
      },
      "execution_count": null,
      "outputs": []
    },
    {
      "cell_type": "markdown",
      "source": [
        "## Random Forest ##"
      ],
      "metadata": {
        "id": "mBv9op96Y2V9"
      }
    },
    {
      "cell_type": "code",
      "source": [],
      "metadata": {
        "id": "8YneCi4uY3oF"
      },
      "execution_count": null,
      "outputs": []
    },
    {
      "cell_type": "markdown",
      "source": [
        "## Logistic Regression ##"
      ],
      "metadata": {
        "id": "yH0aGeK2Y4M6"
      }
    },
    {
      "cell_type": "code",
      "source": [],
      "metadata": {
        "id": "QAnGZFy2Y7FN"
      },
      "execution_count": null,
      "outputs": []
    },
    {
      "cell_type": "markdown",
      "source": [
        "## Linear Discriminant Analysis ##"
      ],
      "metadata": {
        "id": "4wtr2G-XY7q3"
      }
    },
    {
      "cell_type": "code",
      "source": [],
      "metadata": {
        "id": "HI2LZNkWY-UC"
      },
      "execution_count": null,
      "outputs": []
    }
  ]
}